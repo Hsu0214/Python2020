{
  "nbformat": 4,
  "nbformat_minor": 0,
  "metadata": {
    "colab": {
      "name": "python100.ipynb",
      "provenance": [],
      "authorship_tag": "ABX9TyPP4dWFbZ6NC/J1jl2Fka32",
      "include_colab_link": true
    },
    "kernelspec": {
      "name": "python3",
      "display_name": "Python 3"
    }
  },
  "cells": [
    {
      "cell_type": "markdown",
      "metadata": {
        "id": "view-in-github",
        "colab_type": "text"
      },
      "source": [
        "<a href=\"https://colab.research.google.com/github/Hsu0214/Python2020/blob/main/python100.ipynb\" target=\"_parent\"><img src=\"https://colab.research.google.com/assets/colab-badge.svg\" alt=\"Open In Colab\"/></a>"
      ]
    },
    {
      "cell_type": "markdown",
      "metadata": {
        "id": "5rzYVWT9sMaV"
      },
      "source": [
        "1.要在螢幕輸出Hello, Python!  底下程式需使用哪個函數:\r\n",
        "(A) print   (B) printf   (C) printline   (D) printn"
      ]
    },
    {
      "cell_type": "code",
      "metadata": {
        "colab": {
          "base_uri": "https://localhost:8080/"
        },
        "id": "Z4BweTD2rrK4",
        "outputId": "1dc78c26-7c0f-415e-a931-f255a3270e71"
      },
      "source": [
        "#!/usr/bin/python3\r\n",
        "print(\"Hello, Python!\")"
      ],
      "execution_count": 2,
      "outputs": [
        {
          "output_type": "stream",
          "text": [
            "Hello, Python!\n"
          ],
          "name": "stdout"
        }
      ]
    },
    {
      "cell_type": "markdown",
      "metadata": {
        "id": "R_u91p4RsXNO"
      },
      "source": [
        "2.要在程式碼中新增一行註解，底下程式需使用哪個符號:\r\n",
        "(A)\t/   (B) -   (C) #   (D) <!-->"
      ]
    },
    {
      "cell_type": "code",
      "metadata": {
        "colab": {
          "base_uri": "https://localhost:8080/"
        },
        "id": "_O04jwPcsWlH",
        "outputId": "fd3e6d7d-b25e-4267-b4b4-f9b254706617"
      },
      "source": [
        "#!/usr/bin/python3\r\n",
        "#這是一行註解\r\n",
        "print(\"Hello, Python!\")"
      ],
      "execution_count": 5,
      "outputs": [
        {
          "output_type": "stream",
          "text": [
            "Hello, Python!\n"
          ],
          "name": "stdout"
        }
      ]
    },
    {
      "cell_type": "markdown",
      "metadata": {
        "id": "pQvH-JGCs1V9"
      },
      "source": [
        "3.要新建一個變數名稱為school，並將變數值設定為ksu，底下程式需填入:\r\n",
        "\r\n",
        "(A) (1)ksu，(2)school    (B) (1) school，(2) ksu  \r\n",
        "(C) (1)”ksu”，(2)school   (D) (1)ksu，(2)”school”  "
      ]
    },
    {
      "cell_type": "code",
      "metadata": {
        "colab": {
          "base_uri": "https://localhost:8080/",
          "height": 182
        },
        "id": "a_fgKEbOs00b",
        "outputId": "d4ab80b4-dddb-4aa1-f9d1-c51c967b4d06"
      },
      "source": [
        "#!/usr/bin/python3\r\n",
        "ksu, = school"
      ],
      "execution_count": 10,
      "outputs": [
        {
          "output_type": "error",
          "ename": "ValueError",
          "evalue": "ignored",
          "traceback": [
            "\u001b[0;31m---------------------------------------------------------------------------\u001b[0m",
            "\u001b[0;31mValueError\u001b[0m                                Traceback (most recent call last)",
            "\u001b[0;32m<ipython-input-10-51eb3d015fc2>\u001b[0m in \u001b[0;36m<module>\u001b[0;34m()\u001b[0m\n\u001b[1;32m      1\u001b[0m \u001b[0;31m#!/usr/bin/python3\u001b[0m\u001b[0;34m\u001b[0m\u001b[0;34m\u001b[0m\u001b[0;34m\u001b[0m\u001b[0m\n\u001b[0;32m----> 2\u001b[0;31m \u001b[0mksu\u001b[0m\u001b[0;34m,\u001b[0m \u001b[0;34m=\u001b[0m \u001b[0;34m\"school\"\u001b[0m\u001b[0;34m\u001b[0m\u001b[0;34m\u001b[0m\u001b[0m\n\u001b[0m",
            "\u001b[0;31mValueError\u001b[0m: too many values to unpack (expected 1)"
          ]
        }
      ]
    },
    {
      "cell_type": "code",
      "metadata": {
        "id": "5qW5UW3Ksoop"
      },
      "source": [
        ""
      ],
      "execution_count": null,
      "outputs": []
    }
  ]
}